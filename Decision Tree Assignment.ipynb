{
 "cells": [
  {
   "cell_type": "markdown",
   "id": "d432b8ac",
   "metadata": {},
   "source": [
    "# Decision Tree Assignment\n",
    "### Problem 1: Function to find Impurity\n",
    "- Formula to compute the Gini Impurity of a node.\n",
    "$$\n",
    "I(t) = 1 - \\sum_{i=1}^{K}P^2(C_{i}|t) = 1 - \\sum_{i=1}^{K}(\\frac{N_{t,i}}{N_{t,all}})^2\n",
    "$$\n",
    "where:\n",
    "$t$ : node index\n",
    "\n",
    "$i$ : class index\n",
    "\n",
    "$K$ : number of classes\n",
    "\n",
    "$P(C_i|t)$ : proportion of C at t th node\n",
    "\n",
    "$N_{t,i}$ : Number of samples belonging to i-th class of t-th node\n",
    "\n",
    "$N_{t,all}$ : total number of samples of tth node"
   ]
  },
  {
   "cell_type": "code",
   "execution_count": null,
   "id": "7e9b5231",
   "metadata": {},
   "outputs": [],
   "source": [
    "def _calc_gini(self,y): # function to calculate gini impurity of a node\n",
    "    \n",
    "        labels,counts = np.unique(y,return_counts=True)\n",
    "        _gini = 0\n",
    "        for label in labels:\n",
    "            _gini += (counts[labels==label]/np.sum(counts))**2\n",
    "        gini = 1 - _gini\n",
    "        return gini"
   ]
  },
  {
   "cell_type": "markdown",
   "id": "6eb7c70f",
   "metadata": {},
   "source": [
    "### Compare the results of hand calculations and functions\n",
    "- <b><u> Using hand calculation </u></b>\n",
    "### Example 1:\n",
    "- class 1: 15 samples, class 2: 15 samples \n",
    "$$\n",
    "1 - \\sum_{i=1}^{K}(\\frac{N_{t,i}}{N_{t,all}})^2 = 1 - ((\\frac{15}{30})^2 + (\\frac{15}{30})^2) = 0.5\n",
    "$$\n",
    "\n",
    "### Example 2:\n",
    "- class 1: 15 samples, class 2: 15 samples, class 3: 15 samples\n",
    "$$\n",
    "1 - \\sum_{i=1}^{K}(\\frac{N_{t,i}}{N_{t,all}})^2 = 1 - ((\\frac{15}{45})^2 + (\\frac{15}{45})^2 + (\\frac{15}{45})^2) = 0.667\n",
    "$$\n",
    "\n",
    "### Example 3:\n",
    "- class 1: 18 samples, class 2: 12 samples\n",
    "$$\n",
    "1 - \\sum_{i=1}^{K}(\\frac{N_{t,i}}{N_{t,all}})^2 = 1 - ((\\frac{18}{30})^2 + (\\frac{12}{30})^2) = 0.48\n",
    "$$\n",
    "\n",
    "### Example 4:\n",
    "- class 1: 30 samples, class 2: 0 samples\n",
    "$$\n",
    "1 - \\sum_{i=1}^{K}(\\frac{N_{t,i}}{N_{t,all}})^2 = 1 - ((\\frac{30}{30})^2 + (\\frac{0}{30})^2) = 0\n",
    "$$\n",
    "\n",
    "\n",
    "\n",
    "- <b><u> Using functions to calculate the same: </u></b>\n",
    " \n",
    " I will use 1 to depict class 1: samples and 2 to depict class 2: samples and 3 for class 3: samples"
   ]
  },
  {
   "cell_type": "code",
   "execution_count": 76,
   "id": "56c46d36",
   "metadata": {},
   "outputs": [],
   "source": [
    "# we will use the following function to calculate the gini impurity\n",
    "import numpy as np\n",
    "def _calc_gini(y):\n",
    "    y_flat = np.concatenate(y)  # flatten the input array\n",
    "    labels, counts = np.unique(y_flat, return_counts=True)\n",
    "    _gini = 0\n",
    "    for label in labels:\n",
    "        _gini += (counts[labels==label]/np.sum(counts))**2\n",
    "    gini = 1 - _gini\n",
    "    return gini\n"
   ]
  },
  {
   "cell_type": "markdown",
   "id": "4291d3d1",
   "metadata": {},
   "source": [
    "### Example 1:\n",
    "- class 1: 15 samples, class 2: 15 samples \n"
   ]
  },
  {
   "cell_type": "code",
   "execution_count": 60,
   "id": "eacfb9ad",
   "metadata": {},
   "outputs": [
    {
     "data": {
      "text/plain": [
       "array([0.5])"
      ]
     },
     "execution_count": 60,
     "metadata": {},
     "output_type": "execute_result"
    }
   ],
   "source": [
    "y = np.array([[1,1,1,1,1,1,1,1,1,1,1,1,1,1,1],[2,2,2,2,2,2,2,2,2,2,2,2,2,2,2]], dtype = object)\n",
    "_calc_gini(y)"
   ]
  },
  {
   "cell_type": "markdown",
   "id": "1bf31756",
   "metadata": {},
   "source": [
    "### Example 2:\n",
    "- class 1: 15 samples, class 2: 15 samples , class 3: 15 samples"
   ]
  },
  {
   "cell_type": "code",
   "execution_count": 61,
   "id": "e9e11468",
   "metadata": {},
   "outputs": [
    {
     "data": {
      "text/plain": [
       "array([0.66666667])"
      ]
     },
     "execution_count": 61,
     "metadata": {},
     "output_type": "execute_result"
    }
   ],
   "source": [
    "y = np.array([[1,1,1,1,1,1,1,1,1,1,1,1,1,1,1],[2,2,2,2,2,2,2,2,2,2,2,2,2,2,2],[3,3,3,3,3,3,3,3,3,3,3,3,3,3,3]], dtype = object)\n",
    "_calc_gini(y)"
   ]
  },
  {
   "cell_type": "markdown",
   "id": "b50749ad",
   "metadata": {},
   "source": [
    "### Example 3:\n",
    "- class 1: 18 samples, class 2: 12 samples "
   ]
  },
  {
   "cell_type": "code",
   "execution_count": 62,
   "id": "475b73ac",
   "metadata": {},
   "outputs": [
    {
     "data": {
      "text/plain": [
       "array([0.48])"
      ]
     },
     "execution_count": 62,
     "metadata": {},
     "output_type": "execute_result"
    }
   ],
   "source": [
    "y = np.array([[1,1,1,1,1,1,1,1,1,1,1,1,1,1,1,1,1,1],[2,2,2,2,2,2,2,2,2,2,2,2]], dtype = object)\n",
    "_calc_gini(y)"
   ]
  },
  {
   "cell_type": "markdown",
   "id": "477bfa5f",
   "metadata": {},
   "source": [
    "### Example 4:\n",
    "- class 1: 30 samples, class 2: 0 samples "
   ]
  },
  {
   "cell_type": "code",
   "execution_count": 63,
   "id": "6a8f65e7",
   "metadata": {},
   "outputs": [
    {
     "data": {
      "text/plain": [
       "array([0.])"
      ]
     },
     "execution_count": 63,
     "metadata": {},
     "output_type": "execute_result"
    }
   ],
   "source": [
    "y = np.array([[1,1,1,1,1,1,1,1,1,1,1,1,1,1,1,1,1,1,1,1,1,1,1,1,1,1,1,1,1,1],[]], dtype = object)\n",
    "_calc_gini(y)"
   ]
  },
  {
   "cell_type": "code",
   "execution_count": null,
   "id": "ad00bfb8",
   "metadata": {},
   "outputs": [],
   "source": []
  },
  {
   "cell_type": "markdown",
   "id": "bb7cc428",
   "metadata": {},
   "source": [
    "### Problem 2: Function for obtaining information gain\n",
    "- Formula to calculate information gain:\n",
    "$$\n",
    "IG(p) = I(p) - \\frac{N_{left,all}}{N_{p,all}} I(left) - \\frac{N_{right,all}}{N_{p,all}} I(right)\n",
    "$$\n",
    "where:\n",
    "\n",
    "$p$ : index indicating the parent node\n",
    "\n",
    "$left$ : index indicating left node\n",
    "\n",
    "$right$ : index indicating right node"
   ]
  },
  {
   "cell_type": "code",
   "execution_count": 120,
   "id": "3e63b670",
   "metadata": {},
   "outputs": [],
   "source": [
    "# function to calculate information gain\n",
    "def _calc_ig(X,feature_index,y,threshold):\n",
    "    labels_l = y[X[:,feature_index] < threshold]\n",
    "    labels_r = y[X[:,feature_index] >= threshold]\n",
    "    gain_l = (len(labels_l)/(len(labels_l)+len(labels_r)))*_calc_gini(labels_l)\n",
    "    gain_r = (len(labels_r)/(len(labels_l)+len(labels_r)))*_calc_gini(labels_r)\n",
    "    gain = _calc_gini(y) -gain_l -gain_r\n",
    "    return gain"
   ]
  },
  {
   "cell_type": "markdown",
   "id": "090c2704",
   "metadata": {},
   "source": [
    "### Compare the results of hand calculations and functions\n",
    "- <b><u> Using hand calculation </u></b>\n",
    "### Example:\n",
    "- left node class 1: 10 samples, left node class 2: 30 samples\n",
    "- right node class 1: 20 samples, right node class 2: 5 samples\n",
    "\n",
    "From the gain equation above: I(p) - gini impurity of root node\n",
    "\n",
    "$$\n",
    "I(p) = 1 - ((\\frac{30}{65})^2 + (\\frac{35}{65})^2) = 0.497\n",
    "$$\n",
    "gini for left node\n",
    "$$\n",
    "I(left) = 1 - ((\\frac{10}{40})^2 + (\\frac{30}{40})^2) = 0.375\n",
    "$$\n",
    "gini for right node\n",
    "$$\n",
    "I(right) = 1 - ((\\frac{20}{25})^2 + (\\frac{5}{25})^2) = 0.32\n",
    "$$\n",
    "\n",
    "substituting the figures for whole IG equation:\n",
    "\n",
    "$$\n",
    "IG(p) = 0.497 - \\frac{40}{65}(0.375) - \\frac{25}{65}(0.32) = 0.143\n",
    "$$\n",
    "\n",
    "- <b><u> Using functions to calculate the same: </u></b>\n",
    " \n",
    " I will use 1 to depict class 1: samples and 2 to depict class 2: samples."
   ]
  },
  {
   "cell_type": "code",
   "execution_count": 79,
   "id": "82cb33a5",
   "metadata": {},
   "outputs": [],
   "source": [
    "# modified but similar function to calculate information gain using \n",
    "def _calc_ig(labels_l,labels_r,y):\n",
    "    labels_lflat = np.concatenate(labels_l)\n",
    "    labels_rflat = np.concatenate(labels_r)\n",
    "    gain_l = (len(labels_lflat)/(len(labels_lflat)+len(labels_rflat)))*_calc_gini(labels_l)\n",
    "    gain_r = (len(labels_rflat)/(len(labels_lflat)+len(labels_rflat)))*_calc_gini(labels_r)\n",
    "    gain = _calc_gini(y) -gain_l -gain_r\n",
    "    return gain"
   ]
  },
  {
   "cell_type": "code",
   "execution_count": 81,
   "id": "b9c65fca",
   "metadata": {},
   "outputs": [
    {
     "data": {
      "text/plain": [
       "array([0.14319527])"
      ]
     },
     "execution_count": 81,
     "metadata": {},
     "output_type": "execute_result"
    }
   ],
   "source": [
    "labels_l = np.array([[1,1,1,1,1,1,1,1,1,1],[2,2,2,2,2,2,2,2,2,2,2,2,2,2,2,2,2,2,2,2,2,2,2,2,2,2,2,2,2,2]],dtype = object)\n",
    "labels_r = np.array([[1,1,1,1,1,1,1,1,1,1,1,1,1,1,1,1,1,1,1,1],[2,2,2,2,2]],dtype = object)\n",
    "y = np.array([[1,1,1,1,1,1,1,1,1,1,1,1,1,1,1,1,1,1,1,1,1,1,1,1,1,1,1,1,1,1],[2,2,2,2,2,2,2,2,2,2,2,2,2,2,2,2,2,2,2,2,2,2,2,2,2,2,2,2,2,2,2,2,2,2,2]],dtype = object)\n",
    "_calc_ig(labels_l, labels_r, y)"
   ]
  },
  {
   "cell_type": "markdown",
   "id": "895cc45f",
   "metadata": {},
   "source": [
    "- We can see that the function and hand calculation provides similar answer."
   ]
  },
  {
   "cell_type": "markdown",
   "id": "23da4184",
   "metadata": {},
   "source": [
    "### Question 3: Learning\n",
    "\n",
    "- I have written a code to perform space partitioning and generate tree graphs. I am using a randomly generated data and maximum depth of 1. "
   ]
  },
  {
   "cell_type": "code",
   "execution_count": 84,
   "id": "a907a5cb",
   "metadata": {},
   "outputs": [],
   "source": [
    "import numpy as np\n",
    "\n",
    "def space_partition(X, y):\n",
    "    # Calculate the midpoint of the feature values\n",
    "    midpoint = np.mean(X)\n",
    "\n",
    "    # Split the data into two subsets based on the midpoint/ using midpoint as threshold\n",
    "    left_subset = X <= midpoint\n",
    "    right_subset = X > midpoint\n",
    "\n",
    "    # Calculate the Gini impurity of the left and right subsets\n",
    "    gini_left = 1 - np.sum((y[left_subset] == 0) ** 2) - np.sum((y[left_subset] == 1) ** 2)\n",
    "    gini_right = 1 - np.sum((y[right_subset] == 0) ** 2) - np.sum((y[right_subset] == 1) ** 2)\n",
    "\n",
    "    # Determine which subset has the lowest Gini impurity\n",
    "    if gini_left <= gini_right:\n",
    "        return {'feature': 0, 'threshold': midpoint, 'left': np.where(left_subset)[0], 'right': np.where(right_subset)[0]}\n",
    "    else:\n",
    "        return {'feature': 0, 'threshold': midpoint, 'left': np.where(right_subset)[0], 'right': np.where(left_subset)[0]}\n"
   ]
  },
  {
   "cell_type": "code",
   "execution_count": 89,
   "id": "5b061f2c",
   "metadata": {},
   "outputs": [],
   "source": [
    "# Generate random data to use in the above function\n",
    "np.random.seed(42)\n",
    "data = np.random.rand(100,2)\n",
    "data_x = data[:,0]\n",
    "data_y = data[:,1]\n"
   ]
  },
  {
   "cell_type": "code",
   "execution_count": 118,
   "id": "7628a022",
   "metadata": {},
   "outputs": [
    {
     "data": {
      "text/plain": [
       "{'feature': 0,\n",
       " 'threshold': 0.4810439407006581,\n",
       " 'left': array([ 0,  2,  3,  5,  7,  8,  9, 11, 12, 13, 16, 18, 20, 21, 22, 23, 28,\n",
       "        29, 30, 32, 33, 34, 36, 39, 41, 42, 45, 49, 50, 51, 53, 54, 55, 61,\n",
       "        62, 64, 65, 66, 69, 72, 74, 76, 79, 80, 82, 83, 84, 90, 92, 95, 97],\n",
       "       dtype=int64),\n",
       " 'right': array([ 1,  4,  6, 10, 14, 15, 17, 19, 24, 25, 26, 27, 31, 35, 37, 38, 40,\n",
       "        43, 44, 46, 47, 48, 52, 56, 57, 58, 59, 60, 63, 67, 68, 70, 71, 73,\n",
       "        75, 77, 78, 81, 85, 86, 87, 88, 89, 91, 93, 94, 96, 98, 99],\n",
       "       dtype=int64)}"
      ]
     },
     "execution_count": 118,
     "metadata": {},
     "output_type": "execute_result"
    }
   ],
   "source": [
    "space_partition(data_x, data_y)"
   ]
  },
  {
   "cell_type": "code",
   "execution_count": 116,
   "id": "244046c6",
   "metadata": {},
   "outputs": [
    {
     "data": {
      "text/plain": [
       "'decision_tree.png'"
      ]
     },
     "execution_count": 116,
     "metadata": {},
     "output_type": "execute_result"
    }
   ],
   "source": [
    "import graphviz\n",
    "\n",
    "def plot_tree(tree):\n",
    "    dot = graphviz.Digraph()\n",
    "    dot.node('root', 'X[0] <= {:.2f}\\nSamples: {}'.format(tree['threshold'], len(tree['left']) + len(tree['right'])))\n",
    "    dot.node('left', 'Samples: {}'.format(len(tree['left'])))\n",
    "    dot.node('right', 'Samples: {}'.format(len(tree['right'])))\n",
    "    dot.edge('root', 'left', 'True')\n",
    "    dot.edge('root', 'right', 'False')\n",
    "    return dot\n",
    "\n",
    "tree = space_partition(data_x, data_y)\n",
    "dot = plot_tree(tree)\n",
    "dot.render(filename='decision_tree', format='png', view=True)\n"
   ]
  },
  {
   "cell_type": "code",
   "execution_count": 117,
   "id": "47c072e8",
   "metadata": {},
   "outputs": [
    {
     "data": {
      "image/png": "[encoded data removed]",
      "text/plain": [
       "<IPython.core.display.Image object>"
      ]
     },
     "execution_count": 117,
     "metadata": {},
     "output_type": "execute_result"
    }
   ],
   "source": [
    "from IPython.display import Image\n",
    "\n",
    "Image(filename='decision_tree.png')\n"
   ]
  },
  {
   "cell_type": "code",
   "execution_count": null,
   "id": "bba5b827",
   "metadata": {},
   "outputs": [],
   "source": []
  },
  {
   "cell_type": "markdown",
   "id": "9ffdbc12",
   "metadata": {},
   "source": [
    "#### Calculate the information gain of the parent node of function space partition."
   ]
  },
  {
   "cell_type": "code",
   "execution_count": 136,
   "id": "d8ca65ab",
   "metadata": {},
   "outputs": [],
   "source": [
    "def calc_gini(y):\n",
    "    #y_flat = np.concatenate(y)  # flatten the input array\n",
    "    labels, counts = np.unique(y, return_counts=True)\n",
    "    _gini = 0\n",
    "    for label in labels:\n",
    "        _gini += (counts[labels==label]/np.sum(counts))**2\n",
    "    gini = 1 - _gini\n",
    "    return gini\n"
   ]
  },
  {
   "cell_type": "code",
   "execution_count": 137,
   "id": "4a713328",
   "metadata": {},
   "outputs": [],
   "source": [
    "# function to calculate information gain\n",
    "def calc_ig(X,feature_index,y,threshold):\n",
    "    #X = np.concatenate(X)\n",
    "    labels_l = y[X[:, feature_index] < threshold]\n",
    "    labels_r = y[X[:,feature_index] >= threshold]\n",
    "    gain_l = (len(labels_l)/(len(labels_l)+len(labels_r)))*calc_gini(labels_l)\n",
    "    gain_r = (len(labels_r)/(len(labels_l)+len(labels_r)))*calc_gini(labels_r)\n",
    "    gain = calc_gini(y) -gain_l -gain_r\n",
    "    return gain"
   ]
  },
  {
   "cell_type": "code",
   "execution_count": 138,
   "id": "e87c9dce",
   "metadata": {},
   "outputs": [
    {
     "data": {
      "text/plain": [
       "array([0.01])"
      ]
     },
     "execution_count": 138,
     "metadata": {},
     "output_type": "execute_result"
    }
   ],
   "source": [
    "# from space partition function feature index = 0, threshold = 0.48, X = data_x and y = data_y\n",
    "data_x = np.array(data_x).reshape(-1,1)\n",
    "calc_ig(data_x, 0, data_y, 0.48)"
   ]
  },
  {
   "cell_type": "markdown",
   "id": "1abb25d1",
   "metadata": {},
   "source": [
    "Information gain for the parent node is 0.01"
   ]
  },
  {
   "cell_type": "markdown",
   "id": "a71981bd",
   "metadata": {},
   "source": [
    "## Question 4: Presumption\n",
    "- compile the code for ScratchDecesionTreeClassifierDepth1 class and add the predict method"
   ]
  },
  {
   "cell_type": "code",
   "execution_count": 140,
   "id": "edc615a7",
   "metadata": {},
   "outputs": [],
   "source": [
    " # function to calculate and return the predicted value\n",
    "def predict(self, X):\n",
    "        prediction = np.where(X[:,self.feature] < self.threshold,self.l_label,self.r_label)\n",
    "        return prediction\n",
    "       "
   ]
  },
  {
   "cell_type": "markdown",
   "id": "4dba8a16",
   "metadata": {},
   "source": [
    "- Completed decision tree code"
   ]
  },
  {
   "cell_type": "code",
   "execution_count": 144,
   "id": "7199c10e",
   "metadata": {},
   "outputs": [],
   "source": [
    "class ScratchDecisionTreeClassifierDepth1():\n",
    "    def __init__(self, verbose=False):\n",
    "        self.verbose = verbose\n",
    "        \n",
    "    def fit(self, X, y):\n",
    "        \n",
    "        self.gain = 0\n",
    "        for feature_index in range(X.shape[1]):\n",
    "            self.thresholds = np.unique(X[:,feature_index])\n",
    "            for threshold in self.thresholds:\n",
    "                _gain = self._calc_ig(X,feature_index,y,threshold)\n",
    "                if _gain > self.gain:\n",
    "                    self.l_label = collections.Counter(y[X[:,feature_index] < threshold]).most_common()[0][0]\n",
    "                    self.r_label = collections.Counter(y[X[:,feature_index] >= threshold]).most_common()[0][0]\n",
    "                    self.feature = feature_index\n",
    "                    self.threshold = threshold\n",
    "                    self.gain = _gain\n",
    "                    if self.verbose:\n",
    "                        print('feature',self.feature,'threshold',self.threshold,'gain',self.gain) \n",
    "             \n",
    "    def _calc_gini(self,y):\n",
    "    \n",
    "        labels,counts = np.unique(y,return_counts=True)\n",
    "        _gini = 0\n",
    "        for label in labels:\n",
    "            _gini += (counts[labels==label]/np.sum(counts))**2\n",
    "        gini = 1 - _gini\n",
    "        return gini\n",
    "      \n",
    "    def _calc_ig(self, X, feature_index, y, threshold):\n",
    "        \n",
    "        labels_l = y[X[:,feature_index] < threshold]\n",
    "        labels_r = y[X[:,feature_index] >= threshold]\n",
    "        gain_l = (len(labels_l)/(len(labels_l)+len(labels_r)))*self._calc_gini(labels_l)\n",
    "        gain_r = (len(labels_r)/(len(labels_l)+len(labels_r)))*self._calc_gini(labels_r)\n",
    "        gain = self._calc_gini(y) -gain_l -gain_r\n",
    "        return gain\n",
    "    \n",
    "    def predict(self, X):\n",
    "        prediction = np.where(X[:,self.feature] < self.threshold,self.l_label,self.r_label)\n",
    "        return prediction\n",
    "       "
   ]
  },
  {
   "cell_type": "markdown",
   "id": "6138adc0",
   "metadata": {},
   "source": [
    "## Question 5: Learning and Estimation\n",
    "- Use dataset prepared in introduction to machine learning scratch to learn and estimate the data."
   ]
  },
  {
   "cell_type": "code",
   "execution_count": 147,
   "id": "d11df959",
   "metadata": {},
   "outputs": [],
   "source": [
    "# loading data and importing required libraries\n",
    "import numpy as np\n",
    "import pandas as pd\n",
    "import collections\n",
    "from sklearn.datasets import load_iris\n",
    "from sklearn.model_selection import train_test_split\n",
    "iris_dataset = load_iris()\n",
    "X_train, X_test, y_train, y_test = train_test_split(iris_dataset['data'], iris_dataset['target'],test_size=0.3, random_state=0)"
   ]
  },
  {
   "cell_type": "code",
   "execution_count": 148,
   "id": "e1f9301f",
   "metadata": {},
   "outputs": [
    {
     "name": "stdout",
     "output_type": "stream",
     "text": [
      "feature 0 threshold 4.4 gain [0.00661608]\n",
      "feature 0 threshold 4.5 gain [0.02023743]\n",
      "feature 0 threshold 4.6 gain [0.0272504]\n",
      "feature 0 threshold 4.7 gain [0.04914804]\n",
      "feature 0 threshold 4.8 gain [0.05674825]\n",
      "feature 0 threshold 4.9 gain [0.08051913]\n",
      "feature 0 threshold 5.0 gain [0.08232605]\n",
      "feature 0 threshold 5.1 gain [0.10829932]\n",
      "feature 0 threshold 5.2 gain [0.16933821]\n",
      "feature 0 threshold 5.3 gain [0.19172982]\n",
      "feature 0 threshold 5.4 gain [0.20342287]\n",
      "feature 0 threshold 5.5 gain [0.24063492]\n",
      "feature 2 threshold 1.7 gain [0.28824661]\n",
      "feature 2 threshold 3.0 gain [0.32949954]\n"
     ]
    }
   ],
   "source": [
    "clf = ScratchDecisionTreeClassifierDepth1(verbose = True)\n",
    "clf.fit(X_train,y_train)"
   ]
  },
  {
   "cell_type": "code",
   "execution_count": 152,
   "id": "4fd28331",
   "metadata": {},
   "outputs": [],
   "source": [
    "train_prediction = clf.predict(X_test)"
   ]
  },
  {
   "cell_type": "code",
   "execution_count": 153,
   "id": "33a1d345",
   "metadata": {},
   "outputs": [
    {
     "data": {
      "text/plain": [
       "array([2, 2, 0, 2, 0, 2, 0, 2, 2, 2, 2, 2, 2, 2, 2, 0, 2, 2, 0, 0, 2, 2,\n",
       "       0, 0, 2, 0, 0, 2, 2, 0, 2, 2, 0, 2, 2, 2, 0, 2, 2, 2, 2, 0, 2, 0,\n",
       "       0])"
      ]
     },
     "execution_count": 153,
     "metadata": {},
     "output_type": "execute_result"
    }
   ],
   "source": [
    "train_prediction"
   ]
  },
  {
   "cell_type": "markdown",
   "id": "8bda5b8d",
   "metadata": {},
   "source": [
    "#### Comparing it with Scikit-learn to see if it works"
   ]
  },
  {
   "cell_type": "code",
   "execution_count": 151,
   "id": "7d65309f",
   "metadata": {},
   "outputs": [],
   "source": [
    "from sklearn.datasets import load_iris\n",
    "from sklearn.model_selection import train_test_split\n",
    "iris_dataset = load_iris()\n",
    "X_train, X_test, y_train, y_test = train_test_split(iris_dataset['data'], iris_dataset['target'],test_size=0.3, random_state=0)"
   ]
  },
  {
   "cell_type": "code",
   "execution_count": 154,
   "id": "a76f8acf",
   "metadata": {},
   "outputs": [
    {
     "data": {
      "text/html": [
       "<style>#sk-container-id-1 {color: black;background-color: white;}#sk-container-id-1 pre{padding: 0;}#sk-container-id-1 div.sk-toggleable {background-color: white;}#sk-container-id-1 label.sk-toggleable__label {cursor: pointer;display: block;width: 100%;margin-bottom: 0;padding: 0.3em;box-sizing: border-box;text-align: center;}#sk-container-id-1 label.sk-toggleable__label-arrow:before {content: \"▸\";float: left;margin-right: 0.25em;color: #696969;}#sk-container-id-1 label.sk-toggleable__label-arrow:hover:before {color: black;}#sk-container-id-1 div.sk-estimator:hover label.sk-toggleable__label-arrow:before {color: black;}#sk-container-id-1 div.sk-toggleable__content {max-height: 0;max-width: 0;overflow: hidden;text-align: left;background-color: #f0f8ff;}#sk-container-id-1 div.sk-toggleable__content pre {margin: 0.2em;color: black;border-radius: 0.25em;background-color: #f0f8ff;}#sk-container-id-1 input.sk-toggleable__control:checked~div.sk-toggleable__content {max-height: 200px;max-width: 100%;overflow: auto;}#sk-container-id-1 input.sk-toggleable__control:checked~label.sk-toggleable__label-arrow:before {content: \"▾\";}#sk-container-id-1 div.sk-estimator input.sk-toggleable__control:checked~label.sk-toggleable__label {background-color: #d4ebff;}#sk-container-id-1 div.sk-label input.sk-toggleable__control:checked~label.sk-toggleable__label {background-color: #d4ebff;}#sk-container-id-1 input.sk-hidden--visually {border: 0;clip: rect(1px 1px 1px 1px);clip: rect(1px, 1px, 1px, 1px);height: 1px;margin: -1px;overflow: hidden;padding: 0;position: absolute;width: 1px;}#sk-container-id-1 div.sk-estimator {font-family: monospace;background-color: #f0f8ff;border: 1px dotted black;border-radius: 0.25em;box-sizing: border-box;margin-bottom: 0.5em;}#sk-container-id-1 div.sk-estimator:hover {background-color: #d4ebff;}#sk-container-id-1 div.sk-parallel-item::after {content: \"\";width: 100%;border-bottom: 1px solid gray;flex-grow: 1;}#sk-container-id-1 div.sk-label:hover label.sk-toggleable__label {background-color: #d4ebff;}#sk-container-id-1 div.sk-serial::before {content: \"\";position: absolute;border-left: 1px solid gray;box-sizing: border-box;top: 0;bottom: 0;left: 50%;z-index: 0;}#sk-container-id-1 div.sk-serial {display: flex;flex-direction: column;align-items: center;background-color: white;padding-right: 0.2em;padding-left: 0.2em;position: relative;}#sk-container-id-1 div.sk-item {position: relative;z-index: 1;}#sk-container-id-1 div.sk-parallel {display: flex;align-items: stretch;justify-content: center;background-color: white;position: relative;}#sk-container-id-1 div.sk-item::before, #sk-container-id-1 div.sk-parallel-item::before {content: \"\";position: absolute;border-left: 1px solid gray;box-sizing: border-box;top: 0;bottom: 0;left: 50%;z-index: -1;}#sk-container-id-1 div.sk-parallel-item {display: flex;flex-direction: column;z-index: 1;position: relative;background-color: white;}#sk-container-id-1 div.sk-parallel-item:first-child::after {align-self: flex-end;width: 50%;}#sk-container-id-1 div.sk-parallel-item:last-child::after {align-self: flex-start;width: 50%;}#sk-container-id-1 div.sk-parallel-item:only-child::after {width: 0;}#sk-container-id-1 div.sk-dashed-wrapped {border: 1px dashed gray;margin: 0 0.4em 0.5em 0.4em;box-sizing: border-box;padding-bottom: 0.4em;background-color: white;}#sk-container-id-1 div.sk-label label {font-family: monospace;font-weight: bold;display: inline-block;line-height: 1.2em;}#sk-container-id-1 div.sk-label-container {text-align: center;}#sk-container-id-1 div.sk-container {/* jupyter's `normalize.less` sets `[hidden] { display: none; }` but bootstrap.min.css set `[hidden] { display: none !important; }` so we also need the `!important` here to be able to override the default hidden behavior on the sphinx rendered scikit-learn.org. See: https://github.com/scikit-learn/scikit-learn/issues/21755 */display: inline-block !important;position: relative;}#sk-container-id-1 div.sk-text-repr-fallback {display: none;}</style><div id=\"sk-container-id-1\" class=\"sk-top-container\"><div class=\"sk-text-repr-fallback\"><pre>DecisionTreeClassifier(max_depth=3)</pre><b>In a Jupyter environment, please rerun this cell to show the HTML representation or trust the notebook. <br />On GitHub, the HTML representation is unable to render, please try loading this page with nbviewer.org.</b></div><div class=\"sk-container\" hidden><div class=\"sk-item\"><div class=\"sk-estimator sk-toggleable\"><input class=\"sk-toggleable__control sk-hidden--visually\" id=\"sk-estimator-id-1\" type=\"checkbox\" checked><label for=\"sk-estimator-id-1\" class=\"sk-toggleable__label sk-toggleable__label-arrow\">DecisionTreeClassifier</label><div class=\"sk-toggleable__content\"><pre>DecisionTreeClassifier(max_depth=3)</pre></div></div></div></div></div>"
      ],
      "text/plain": [
       "DecisionTreeClassifier(max_depth=3)"
      ]
     },
     "execution_count": 154,
     "metadata": {},
     "output_type": "execute_result"
    }
   ],
   "source": [
    "from sklearn import tree\n",
    "from sklearn.tree import DecisionTreeClassifier\n",
    "tree = DecisionTreeClassifier(max_depth = 3) # create instance of the class and set max depth of the tree\n",
    "tree.fit(X_train, y_train)"
   ]
  },
  {
   "cell_type": "code",
   "execution_count": 155,
   "id": "a818dff0",
   "metadata": {},
   "outputs": [],
   "source": [
    "y_pred = tree.predict(X_test)"
   ]
  },
  {
   "cell_type": "code",
   "execution_count": 156,
   "id": "b3a79bb4",
   "metadata": {},
   "outputs": [
    {
     "data": {
      "text/plain": [
       "array([2, 1, 0, 2, 0, 2, 0, 1, 1, 1, 2, 1, 1, 1, 1, 0, 1, 1, 0, 0, 2, 1,\n",
       "       0, 0, 2, 0, 0, 1, 1, 0, 2, 1, 0, 2, 2, 1, 0, 2, 1, 1, 2, 0, 2, 0,\n",
       "       0])"
      ]
     },
     "execution_count": 156,
     "metadata": {},
     "output_type": "execute_result"
    }
   ],
   "source": [
    "y_pred"
   ]
  },
  {
   "cell_type": "markdown",
   "id": "17a082fd",
   "metadata": {},
   "source": [
    "#### Comparing Accuracy, Precision and Recall"
   ]
  },
  {
   "cell_type": "code",
   "execution_count": 158,
   "id": "7ad76386",
   "metadata": {},
   "outputs": [
    {
     "data": {
      "text/plain": [
       "0.6"
      ]
     },
     "execution_count": 158,
     "metadata": {},
     "output_type": "execute_result"
    }
   ],
   "source": [
    "# accuracy score for scratch implementation\n",
    "from sklearn.metrics import accuracy_score\n",
    "accuracy_score(y_test, train_prediction)"
   ]
  },
  {
   "cell_type": "code",
   "execution_count": 159,
   "id": "ad395de5",
   "metadata": {},
   "outputs": [
    {
     "data": {
      "text/plain": [
       "0.9777777777777777"
      ]
     },
     "execution_count": 159,
     "metadata": {},
     "output_type": "execute_result"
    }
   ],
   "source": [
    "# accuracy score for scikit learn imprementation\n",
    "accuracy_score(y_test, y_pred)"
   ]
  },
  {
   "cell_type": "code",
   "execution_count": 163,
   "id": "5516c804",
   "metadata": {},
   "outputs": [
    {
     "data": {
      "text/plain": [
       "0.6"
      ]
     },
     "execution_count": 163,
     "metadata": {},
     "output_type": "execute_result"
    }
   ],
   "source": [
    "# precision score for scratch implementation\n",
    "from sklearn.metrics import precision_score\n",
    "precision_score(y_test, train_prediction, average = 'micro')"
   ]
  },
  {
   "cell_type": "code",
   "execution_count": 164,
   "id": "4b473243",
   "metadata": {},
   "outputs": [
    {
     "data": {
      "text/plain": [
       "0.9777777777777777"
      ]
     },
     "execution_count": 164,
     "metadata": {},
     "output_type": "execute_result"
    }
   ],
   "source": [
    "# precision score for scikit implementation\n",
    "precision_score(y_test, y_pred, average = 'micro')"
   ]
  },
  {
   "cell_type": "code",
   "execution_count": 166,
   "id": "eb926bb2",
   "metadata": {},
   "outputs": [
    {
     "data": {
      "text/plain": [
       "0.6"
      ]
     },
     "execution_count": 166,
     "metadata": {},
     "output_type": "execute_result"
    }
   ],
   "source": [
    "# recall value for scratch implementation\n",
    "from sklearn.metrics import recall_score\n",
    "recall_score(y_test, train_prediction, average = 'micro')"
   ]
  },
  {
   "cell_type": "code",
   "execution_count": 167,
   "id": "523e751a",
   "metadata": {},
   "outputs": [
    {
     "data": {
      "text/plain": [
       "0.9777777777777777"
      ]
     },
     "execution_count": 167,
     "metadata": {},
     "output_type": "execute_result"
    }
   ],
   "source": [
    "# recall value for scikit implementation\n",
    "recall_score(y_test, y_pred, average = 'micro')"
   ]
  },
  {
   "cell_type": "markdown",
   "id": "e7b8a707",
   "metadata": {},
   "source": [
    "### Problem 6: Visualization of the decision region"
   ]
  },
  {
   "cell_type": "code",
   "execution_count": 169,
   "id": "75e5c664",
   "metadata": {},
   "outputs": [
    {
     "name": "stdout",
     "output_type": "stream",
     "text": [
      "feature 0 threshold 4.5 gain [0.01470588]\n",
      "feature 0 threshold 4.6 gain [0.02238806]\n",
      "feature 0 threshold 4.7 gain [0.03030303]\n",
      "feature 0 threshold 4.8 gain [0.03846154]\n",
      "feature 0 threshold 4.9 gain [0.05555556]\n",
      "feature 0 threshold 5.0 gain [0.07183908]\n",
      "feature 0 threshold 5.1 gain [0.10470085]\n",
      "feature 0 threshold 5.2 gain [0.18992248]\n",
      "feature 0 threshold 5.4 gain [0.21877585]\n",
      "feature 0 threshold 5.5 gain [0.27614379]\n"
     ]
    }
   ],
   "source": [
    "# use 2 feature values to better visualize the decision region\n",
    "iris_dataset = load_iris()\n",
    "iris = load_iris()\n",
    "X = iris.data[:100,:2]\n",
    "y = iris.target[:100]\n",
    "(X_train, X_test, y_train, y_test) = train_test_split(X, y, test_size=0.3, random_state = 0)\n",
    "clf = ScratchDecisionTreeClassifierDepth1(verbose = True)\n",
    "clf.fit(X_train,y_train)"
   ]
  },
  {
   "cell_type": "code",
   "execution_count": 170,
   "id": "b45ec438",
   "metadata": {},
   "outputs": [],
   "source": [
    "import matplotlib.pyplot as plt\n",
    "from matplotlib.colors import ListedColormap\n",
    "def decision_region(X, y,clf):\n",
    "    mesh_f0, mesh_f1  = np.meshgrid(\n",
    "        np.arange(np.min(X[:,0]), np.max(X[:,0]), 0.01), \n",
    "        np.arange(np.min(X[:,1]), np.max(X[:,1]), 0.01)\n",
    "    )\n",
    "    mesh = np.c_[np.ravel(mesh_f0),np.ravel(mesh_f1)]\n",
    "    y_pred = clf.predict(mesh).reshape(mesh_f0.shape)\n",
    "    plt.title('decision region')\n",
    "    plt.xlabel('feature0')\n",
    "    plt.ylabel('feature1')\n",
    "    plt.contourf(mesh_f0, mesh_f1, y_pred,cmap=ListedColormap(['pink', 'skyblue']))\n",
    "    plt.contour(mesh_f0, mesh_f1, y_pred,colors='red')\n",
    "    plt.scatter(X[y==0][:, 0], X[y==0][:, 1],label='0')\n",
    "    plt.scatter(X[y==1][:, 0], X[y==1][:, 1],label='1')\n",
    "    plt.legend()\n",
    "    plt.show()"
   ]
  },
  {
   "cell_type": "code",
   "execution_count": 171,
   "id": "e6a471f9",
   "metadata": {},
   "outputs": [
    {
     "data": {
      "image/png": "[encoded data removed]",
      "text/plain": [
       "<Figure size 640x480 with 1 Axes>"
      ]
     },
     "metadata": {},
     "output_type": "display_data"
    }
   ],
   "source": [
    "decision_region(X, y, clf)"
   ]
  },
  {
   "cell_type": "markdown",
   "id": "a4a08b5a",
   "metadata": {},
   "source": [
    "## Problem 7:(Advanced Exercise) Creating a decision tree classifier class with depth 2\n",
    "- "
   ]
  },
  {
   "cell_type": "code",
   "execution_count": 233,
   "id": "abd182b9",
   "metadata": {},
   "outputs": [],
   "source": [
    "class ScratchDecisionTreeClassifierDepth2():\n",
    "    def __init__(self, max_depth=2, verbose=False):\n",
    "        self.max_depth = max_depth\n",
    "        self.verbose = verbose\n",
    "        \n",
    "    def fit(self, X, y, depth=0):\n",
    "        \n",
    "        if depth >= self.max_depth:\n",
    "            self.l_label = collections.Counter(y).most_common()[0][0]\n",
    "            self.r_label = collections.Counter(y).most_common()[0][0]\n",
    "            return\n",
    "        \n",
    "        self.gain = 0\n",
    "        for feature_index in range(X.shape[1]):\n",
    "            self.thresholds = np.unique(X[:,feature_index])\n",
    "            for threshold in self.thresholds:\n",
    "                _gain = self._calc_ig(X,feature_index,y,threshold)\n",
    "                if _gain > self.gain:\n",
    "                    l_labels = y[X[:,feature_index] < threshold]\n",
    "                    r_labels = y[X[:,feature_index] >= threshold]\n",
    "                    if len(l_labels) == 0 or len(r_labels) == 0:\n",
    "                        continue\n",
    "                    self.l_tree = ScratchDecisionTreeClassifierDepth2(max_depth=self.max_depth, verbose=self.verbose)\n",
    "                    self.l_tree.fit(X[X[:,feature_index] < threshold], l_labels, depth=depth+1)\n",
    "                    self.r_tree = ScratchDecisionTreeClassifierDepth2(max_depth=self.max_depth, verbose=self.verbose)\n",
    "                    self.r_tree.fit(X[X[:,feature_index] >= threshold], r_labels, depth=depth+1)\n",
    "                    self.feature = feature_index\n",
    "                    self.threshold = threshold\n",
    "                    self.gain = _gain\n",
    "                    if self.verbose:\n",
    "                        print('feature',self.feature,'threshold',self.threshold,'gain',self.gain) \n",
    "                \n",
    "        if not hasattr(self, 'feature'):\n",
    "            self.l_label = collections.Counter(y).most_common()[0][0]\n",
    "            self.r_label = collections.Counter(y).most_common()[0][0]\n",
    "             \n",
    "    def _calc_gini(self,y):\n",
    "    \n",
    "        labels,counts = np.unique(y,return_counts=True)\n",
    "        _gini = 0\n",
    "        for label in labels:\n",
    "            _gini += (counts[labels==label]/np.sum(counts))**2\n",
    "        gini = 1 - _gini\n",
    "        return gini\n",
    "      \n",
    "    def _calc_ig(self, X, feature_index, y, threshold):\n",
    "        \n",
    "        labels_l = y[X[:,feature_index] < threshold]\n",
    "        labels_r = y[X[:,feature_index] >= threshold]\n",
    "        gain_l = (len(labels_l)/(len(labels_l)+len(labels_r)))*self._calc_gini(labels_l)\n",
    "        gain_r = (len(labels_r)/(len(labels_l)+len(labels_r)))*self._calc_gini(labels_r)\n",
    "        gain = self._calc_gini(y) - gain_l - gain_r\n",
    "        return gain\n",
    "    \n",
    "    def predict(self, X):\n",
    "        predictions = np.zeros(X.shape[0])\n",
    "        for i, x in enumerate(X):\n",
    "            tree = self\n",
    "            while hasattr(tree, 'feature'):\n",
    "                if x[tree.feature] < tree.threshold:\n",
    "                    tree = tree.l_tree\n",
    "                else:\n",
    "                    tree = tree.r_tree\n",
    "            predictions[i] = tree.l_label\n",
    "        return predictions\n"
   ]
  },
  {
   "cell_type": "code",
   "execution_count": 234,
   "id": "6c5b666f",
   "metadata": {},
   "outputs": [],
   "source": [
    "import collections\n",
    "from sklearn.datasets import load_iris\n",
    "from sklearn.model_selection import train_test_split\n",
    "iris_dataset = load_iris()\n",
    "X_train, X_test, y_train, y_test = train_test_split(iris_dataset['data'], iris_dataset['target'],test_size=0.3, random_state=0)"
   ]
  },
  {
   "cell_type": "code",
   "execution_count": 240,
   "id": "a6643d15",
   "metadata": {},
   "outputs": [],
   "source": [
    "clf2 = ScratchDecisionTreeClassifierDepth2(verbose = False)\n",
    "clf2.fit(X_train,y_train,depth = 2)"
   ]
  },
  {
   "cell_type": "code",
   "execution_count": 241,
   "id": "ca05c191",
   "metadata": {},
   "outputs": [],
   "source": [
    "train_prediction1 = clf2.predict(X_test)"
   ]
  },
  {
   "cell_type": "code",
   "execution_count": 242,
   "id": "010e9166",
   "metadata": {},
   "outputs": [
    {
     "data": {
      "text/plain": [
       "array([2., 2., 2., 2., 2., 2., 2., 2., 2., 2., 2., 2., 2., 2., 2., 2., 2.,\n",
       "       2., 2., 2., 2., 2., 2., 2., 2., 2., 2., 2., 2., 2., 2., 2., 2., 2.,\n",
       "       2., 2., 2., 2., 2., 2., 2., 2., 2., 2., 2.])"
      ]
     },
     "execution_count": 242,
     "metadata": {},
     "output_type": "execute_result"
    }
   ],
   "source": [
    "train_prediction1"
   ]
  },
  {
   "cell_type": "markdown",
   "id": "260fb348",
   "metadata": {},
   "source": [
    "## Problem 8:(Advanced exercise) Creating a decision tree classifier class with unlimited depth"
   ]
  },
  {
   "cell_type": "code",
   "execution_count": 216,
   "id": "4ab23161",
   "metadata": {},
   "outputs": [],
   "source": [
    "import numpy as np\n",
    "from collections import Counter\n",
    "\n",
    "class ScratchDecisionTreeClassifierDepthInf():\n",
    "    def __init__(self, max_depth=None, verbose=False):\n",
    "        self.max_depth = max_depth\n",
    "        self.verbose = verbose\n",
    "        \n",
    "    def fit(self, X, y, depth=0):\n",
    "        if self.max_depth and depth >= self.max_depth:\n",
    "            return\n",
    "        if len(set(y)) == 1:\n",
    "            self.label = y[0]\n",
    "            return\n",
    "        self.gain = 0\n",
    "        for feature_index in range(X.shape[1]):\n",
    "            thresholds = np.unique(X[:, feature_index])\n",
    "            for threshold in thresholds:\n",
    "                _gain = self._calc_ig(X, feature_index, y, threshold)\n",
    "                if _gain > self.gain:\n",
    "                    self.l_label = Counter(y[X[:, feature_index] < threshold]).most_common()[0][0]\n",
    "                    self.r_label = Counter(y[X[:, feature_index] >= threshold]).most_common()[0][0]\n",
    "                    self.feature = feature_index\n",
    "                    self.threshold = threshold\n",
    "                    self.gain = _gain\n",
    "        if self.gain == 0:\n",
    "            self.label = Counter(y).most_common()[0][0]\n",
    "            return\n",
    "        self.left = ScratchDecisionTreeClassifierDepthInf(max_depth=self.max_depth, verbose=self.verbose)\n",
    "        self.right = ScratchDecisionTreeClassifierDepthInf(max_depth=self.max_depth, verbose=self.verbose)\n",
    "        self.left.fit(X[X[:, self.feature] < self.threshold], y[X[:, self.feature] < self.threshold], depth=depth+1)\n",
    "        self.right.fit(X[X[:, self.feature] >= self.threshold], y[X[:, self.feature] >= self.threshold], depth=depth+1)\n",
    "        \n",
    "    def _calc_gini(self, y):\n",
    "        labels, counts = np.unique(y, return_counts=True)\n",
    "        _gini = 0\n",
    "        for label in labels:\n",
    "            _gini += (counts[labels==label]/np.sum(counts))**2\n",
    "        gini = 1 - _gini\n",
    "        return gini\n",
    "    \n",
    "    def _calc_ig(self, X, feature_index, y, threshold):\n",
    "        labels_l = y[X[:, feature_index] < threshold]\n",
    "        labels_r = y[X[:, feature_index] >= threshold]\n",
    "        gain_l = (len(labels_l)/(len(labels_l)+len(labels_r)))*self._calc_gini(labels_l)\n",
    "        gain_r = (len(labels_r)/(len(labels_l)+len(labels_r)))*self._calc_gini(labels_r)\n",
    "        gain = self._calc_gini(y) - gain_l - gain_r\n",
    "        return gain\n",
    "    \n",
    "    def predict(self, X):\n",
    "        return np.array([self._predict_one(x) for x in X])\n",
    "    \n",
    "    def _predict_one(self, x):\n",
    "        if hasattr(self, 'label'):\n",
    "            return self.label\n",
    "        if x[self.feature] < self.threshold:\n",
    "            return self.left._predict_one(x)\n",
    "        else:\n",
    "            return self.right._predict_one(x)\n"
   ]
  },
  {
   "cell_type": "code",
   "execution_count": 223,
   "id": "a7c08d99",
   "metadata": {},
   "outputs": [],
   "source": [
    "import collections\n",
    "from sklearn.datasets import load_iris\n",
    "from sklearn.model_selection import train_test_split\n",
    "iris_dataset = load_iris()\n",
    "X_train, X_test, y_train, y_test = train_test_split(iris_dataset['data'], iris_dataset['target'],test_size=0.3, random_state=0)"
   ]
  },
  {
   "cell_type": "code",
   "execution_count": 222,
   "id": "3300cb47",
   "metadata": {},
   "outputs": [],
   "source": [
    "clf3 = ScratchDecisionTreeClassifierDepthInf(verbose = True)\n",
    "clf3.fit(X_train,y_train,2)"
   ]
  },
  {
   "cell_type": "code",
   "execution_count": 231,
   "id": "6684d8fc",
   "metadata": {},
   "outputs": [],
   "source": [
    "train_prediction3 = clf3.predict(X_test)"
   ]
  },
  {
   "cell_type": "code",
   "execution_count": 232,
   "id": "e5ecc360",
   "metadata": {},
   "outputs": [
    {
     "data": {
      "text/plain": [
       "array([2, 1, 0, 2, 0, 2, 0, 1, 1, 1, 2, 1, 1, 1, 1, 0, 1, 1, 0, 0, 2, 1,\n",
       "       0, 0, 2, 0, 0, 1, 1, 0, 2, 1, 0, 2, 2, 1, 0, 2, 1, 1, 2, 0, 2, 0,\n",
       "       0])"
      ]
     },
     "execution_count": 232,
     "metadata": {},
     "output_type": "execute_result"
    }
   ],
   "source": [
    "train_prediction3"
   ]
  },
  {
   "cell_type": "code",
   "execution_count": null,
   "id": "ca3d9488",
   "metadata": {},
   "outputs": [],
   "source": []
  }
 ],
 "metadata": {
  "kernelspec": {
   "display_name": "Python 3 (ipykernel)",
   "language": "python",
   "name": "python3"
  },
  "language_info": {
   "codemirror_mode": {
    "name": "ipython",
    "version": 3
   },
   "file_extension": ".py",
   "mimetype": "text/x-python",
   "name": "python",
   "nbconvert_exporter": "python",
   "pygments_lexer": "ipython3",
   "version": "3.8.10"
  }
 },
 "nbformat": 4,
 "nbformat_minor": 5
}
